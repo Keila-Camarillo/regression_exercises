{
 "cells": [
  {
   "cell_type": "code",
   "execution_count": 180,
   "id": "ea7c36c0",
   "metadata": {},
   "outputs": [],
   "source": [
    "import pandas as pd\n",
    "import numpy as np\n",
    "\n",
    "from sklearn.metrics import mean_squared_error\n",
    "\n",
    "import wrangle as w\n",
    "\n",
    "\n",
    "import env\n",
    "import os\n",
    "import pandas as pd\n",
    "import numpy as np\n",
    "import seaborn as sns\n",
    "import matplotlib.pyplot as plt\n",
    "from scipy import stats\n",
    "from sklearn.model_selection import train_test_split\n",
    "import sklearn.preprocessing\n",
    "from sklearn.linear_model import LinearRegression\n",
    "\n",
    "from scipy import stats\n",
    "from sklearn.metrics import mean_squared_error, r2_score, explained_variance_score\n",
    "\n",
    "from sklearn.linear_model import LinearRegression\n",
    "from sklearn.feature_selection import f_regression \n",
    "from math import sqrt\n",
    "import matplotlib.pyplot as plt\n",
    "import warnings\n",
    "warnings.filterwarnings('ignore')\n"
   ]
  },
  {
   "cell_type": "markdown",
   "id": "68d3252e",
   "metadata": {},
   "source": [
    "1. Load your zillow dataset.\n",
    "\n",
    "2. Fit a linear regression model (ordinary least squares) and compute yhat, predictions of taxvaluedollarcnt using only calculatedfinishedsqft.\n",
    "\n",
    "3. Plot the residuals for the linear regression model that you made.\n",
    "\n",
    "4. Calculate the sum of squared errors, explained sum of squares, total sum of squares, mean squared error, and root mean squared error for your model."
   ]
  },
  {
   "cell_type": "code",
   "execution_count": 246,
   "id": "8db6c6f9",
   "metadata": {},
   "outputs": [],
   "source": [
    "df1 = w.get_df()"
   ]
  },
  {
   "cell_type": "code",
   "execution_count": 290,
   "id": "51a34753",
   "metadata": {},
   "outputs": [
    {
     "name": "stdout",
     "output_type": "stream",
     "text": [
      "1590 outliers removed from bedroom.\n",
      "8559 outliers removed from bathroom.\n",
      "4412 outliers removed from area.\n",
      "18673 outliers removed from property_value.\n",
      "16 outliers removed from year.\n",
      "21610 outliers removed from tax.\n",
      "\n",
      "Total of 54860 outliers removed.\n"
     ]
    }
   ],
   "source": [
    "train, validate, test  = w.split_clean_zillow()"
   ]
  },
  {
   "cell_type": "code",
   "execution_count": 284,
   "id": "d682b4d0",
   "metadata": {},
   "outputs": [],
   "source": [
    "train = train.drop(columns=[\"fips\", \"orange\", \"ventura\"])"
   ]
  },
  {
   "cell_type": "code",
   "execution_count": 287,
   "id": "55804262",
   "metadata": {},
   "outputs": [],
   "source": [
    "df = train"
   ]
  },
  {
   "cell_type": "code",
   "execution_count": 70,
   "id": "74a1b5ba",
   "metadata": {},
   "outputs": [],
   "source": [
    "df1 = df1.sample(1000)"
   ]
  },
  {
   "cell_type": "code",
   "execution_count": 227,
   "id": "fb9dea8d",
   "metadata": {},
   "outputs": [
    {
     "name": "stdout",
     "output_type": "stream",
     "text": [
      "1590 outliers removed from bedroom.\n",
      "8559 outliers removed from bathroom.\n",
      "4412 outliers removed from area.\n",
      "18673 outliers removed from value.\n",
      "16 outliers removed from year.\n",
      "21610 outliers removed from tax.\n",
      "0 outliers removed from bathroom_full.\n",
      "0 outliers removed from orange.\n",
      "0 outliers removed from ventura.\n",
      "\n",
      "Total of 54860 outliers removed.\n"
     ]
    }
   ],
   "source": [
    "x_train_scaled, x_validate_scaled, x_test_scaled, y_train_scaled, y_validate_scaled, y_test_scaled = w.split_scale(df1)"
   ]
  },
  {
   "cell_type": "code",
   "execution_count": 71,
   "id": "12ad574f",
   "metadata": {},
   "outputs": [
    {
     "name": "stdout",
     "output_type": "stream",
     "text": [
      "0 outliers removed from bedroom.\n",
      "6 outliers removed from bathroom.\n",
      "4 outliers removed from area.\n",
      "12 outliers removed from value.\n",
      "0 outliers removed from year.\n",
      "7 outliers removed from tax.\n",
      "0 outliers removed from bathroom_full.\n",
      "0 outliers removed from orange.\n",
      "0 outliers removed from ventura.\n",
      "\n",
      "Total of 29 outliers removed.\n"
     ]
    }
   ],
   "source": [
    "train, validate, test = w.split_scale1(df1)\n",
    "# x = area\n",
    "# y = tax"
   ]
  },
  {
   "cell_type": "code",
   "execution_count": 291,
   "id": "a791915e",
   "metadata": {},
   "outputs": [
    {
     "ename": "KeyError",
     "evalue": "\"['value'] not in index\"",
     "output_type": "error",
     "traceback": [
      "\u001b[0;31m---------------------------------------------------------------------------\u001b[0m",
      "\u001b[0;31mKeyError\u001b[0m                                  Traceback (most recent call last)",
      "\u001b[0;32m/var/folders/bf/lhpb5n_j1xj4msxy6nrm9h7h0000gn/T/ipykernel_6911/3753867887.py\u001b[0m in \u001b[0;36m<module>\u001b[0;34m\u001b[0m\n\u001b[0;32m----> 1\u001b[0;31m \u001b[0mdf\u001b[0m \u001b[0;34m=\u001b[0m \u001b[0mtrain\u001b[0m\u001b[0;34m[\u001b[0m\u001b[0;34m[\u001b[0m\u001b[0;34m\"area\"\u001b[0m\u001b[0;34m,\u001b[0m \u001b[0;34m\"value\"\u001b[0m\u001b[0;34m]\u001b[0m\u001b[0;34m]\u001b[0m\u001b[0;34m\u001b[0m\u001b[0;34m\u001b[0m\u001b[0m\n\u001b[0m",
      "\u001b[0;32m/usr/local/anaconda3/lib/python3.9/site-packages/pandas/core/frame.py\u001b[0m in \u001b[0;36m__getitem__\u001b[0;34m(self, key)\u001b[0m\n\u001b[1;32m   3509\u001b[0m             \u001b[0;32mif\u001b[0m \u001b[0mis_iterator\u001b[0m\u001b[0;34m(\u001b[0m\u001b[0mkey\u001b[0m\u001b[0;34m)\u001b[0m\u001b[0;34m:\u001b[0m\u001b[0;34m\u001b[0m\u001b[0;34m\u001b[0m\u001b[0m\n\u001b[1;32m   3510\u001b[0m                 \u001b[0mkey\u001b[0m \u001b[0;34m=\u001b[0m \u001b[0mlist\u001b[0m\u001b[0;34m(\u001b[0m\u001b[0mkey\u001b[0m\u001b[0;34m)\u001b[0m\u001b[0;34m\u001b[0m\u001b[0;34m\u001b[0m\u001b[0m\n\u001b[0;32m-> 3511\u001b[0;31m             \u001b[0mindexer\u001b[0m \u001b[0;34m=\u001b[0m \u001b[0mself\u001b[0m\u001b[0;34m.\u001b[0m\u001b[0mcolumns\u001b[0m\u001b[0;34m.\u001b[0m\u001b[0m_get_indexer_strict\u001b[0m\u001b[0;34m(\u001b[0m\u001b[0mkey\u001b[0m\u001b[0;34m,\u001b[0m \u001b[0;34m\"columns\"\u001b[0m\u001b[0;34m)\u001b[0m\u001b[0;34m[\u001b[0m\u001b[0;36m1\u001b[0m\u001b[0;34m]\u001b[0m\u001b[0;34m\u001b[0m\u001b[0;34m\u001b[0m\u001b[0m\n\u001b[0m\u001b[1;32m   3512\u001b[0m \u001b[0;34m\u001b[0m\u001b[0m\n\u001b[1;32m   3513\u001b[0m         \u001b[0;31m# take() does not accept boolean indexers\u001b[0m\u001b[0;34m\u001b[0m\u001b[0;34m\u001b[0m\u001b[0m\n",
      "\u001b[0;32m/usr/local/anaconda3/lib/python3.9/site-packages/pandas/core/indexes/base.py\u001b[0m in \u001b[0;36m_get_indexer_strict\u001b[0;34m(self, key, axis_name)\u001b[0m\n\u001b[1;32m   5794\u001b[0m             \u001b[0mkeyarr\u001b[0m\u001b[0;34m,\u001b[0m \u001b[0mindexer\u001b[0m\u001b[0;34m,\u001b[0m \u001b[0mnew_indexer\u001b[0m \u001b[0;34m=\u001b[0m \u001b[0mself\u001b[0m\u001b[0;34m.\u001b[0m\u001b[0m_reindex_non_unique\u001b[0m\u001b[0;34m(\u001b[0m\u001b[0mkeyarr\u001b[0m\u001b[0;34m)\u001b[0m\u001b[0;34m\u001b[0m\u001b[0;34m\u001b[0m\u001b[0m\n\u001b[1;32m   5795\u001b[0m \u001b[0;34m\u001b[0m\u001b[0m\n\u001b[0;32m-> 5796\u001b[0;31m         \u001b[0mself\u001b[0m\u001b[0;34m.\u001b[0m\u001b[0m_raise_if_missing\u001b[0m\u001b[0;34m(\u001b[0m\u001b[0mkeyarr\u001b[0m\u001b[0;34m,\u001b[0m \u001b[0mindexer\u001b[0m\u001b[0;34m,\u001b[0m \u001b[0maxis_name\u001b[0m\u001b[0;34m)\u001b[0m\u001b[0;34m\u001b[0m\u001b[0;34m\u001b[0m\u001b[0m\n\u001b[0m\u001b[1;32m   5797\u001b[0m \u001b[0;34m\u001b[0m\u001b[0m\n\u001b[1;32m   5798\u001b[0m         \u001b[0mkeyarr\u001b[0m \u001b[0;34m=\u001b[0m \u001b[0mself\u001b[0m\u001b[0;34m.\u001b[0m\u001b[0mtake\u001b[0m\u001b[0;34m(\u001b[0m\u001b[0mindexer\u001b[0m\u001b[0;34m)\u001b[0m\u001b[0;34m\u001b[0m\u001b[0;34m\u001b[0m\u001b[0m\n",
      "\u001b[0;32m/usr/local/anaconda3/lib/python3.9/site-packages/pandas/core/indexes/base.py\u001b[0m in \u001b[0;36m_raise_if_missing\u001b[0;34m(self, key, indexer, axis_name)\u001b[0m\n\u001b[1;32m   5857\u001b[0m \u001b[0;34m\u001b[0m\u001b[0m\n\u001b[1;32m   5858\u001b[0m             \u001b[0mnot_found\u001b[0m \u001b[0;34m=\u001b[0m \u001b[0mlist\u001b[0m\u001b[0;34m(\u001b[0m\u001b[0mensure_index\u001b[0m\u001b[0;34m(\u001b[0m\u001b[0mkey\u001b[0m\u001b[0;34m)\u001b[0m\u001b[0;34m[\u001b[0m\u001b[0mmissing_mask\u001b[0m\u001b[0;34m.\u001b[0m\u001b[0mnonzero\u001b[0m\u001b[0;34m(\u001b[0m\u001b[0;34m)\u001b[0m\u001b[0;34m[\u001b[0m\u001b[0;36m0\u001b[0m\u001b[0;34m]\u001b[0m\u001b[0;34m]\u001b[0m\u001b[0;34m.\u001b[0m\u001b[0munique\u001b[0m\u001b[0;34m(\u001b[0m\u001b[0;34m)\u001b[0m\u001b[0;34m)\u001b[0m\u001b[0;34m\u001b[0m\u001b[0;34m\u001b[0m\u001b[0m\n\u001b[0;32m-> 5859\u001b[0;31m             \u001b[0;32mraise\u001b[0m \u001b[0mKeyError\u001b[0m\u001b[0;34m(\u001b[0m\u001b[0;34mf\"{not_found} not in index\"\u001b[0m\u001b[0;34m)\u001b[0m\u001b[0;34m\u001b[0m\u001b[0;34m\u001b[0m\u001b[0m\n\u001b[0m\u001b[1;32m   5860\u001b[0m \u001b[0;34m\u001b[0m\u001b[0m\n\u001b[1;32m   5861\u001b[0m     \u001b[0;34m@\u001b[0m\u001b[0moverload\u001b[0m\u001b[0;34m\u001b[0m\u001b[0;34m\u001b[0m\u001b[0m\n",
      "\u001b[0;31mKeyError\u001b[0m: \"['value'] not in index\""
     ]
    }
   ],
   "source": [
    "df = train[[\"area\", \"value\"]]"
   ]
  },
  {
   "cell_type": "code",
   "execution_count": 289,
   "id": "465d1dca",
   "metadata": {},
   "outputs": [],
   "source": [
    "df['tax_baseline'] = df['tax'].mean()"
   ]
  },
  {
   "cell_type": "code",
   "execution_count": 262,
   "id": "2d66ecf4",
   "metadata": {},
   "outputs": [],
   "source": [
    "# generate parameters, i.e. create model\n",
    "lr = LinearRegression()\n",
    "ols_model = lr.fit(df[['area']], df.tax)\n",
    "\n",
    "# compute predictions and add to original dataframe\n",
    "df['yhat'] = ols_model.predict(df[['area']])\n"
   ]
  },
  {
   "cell_type": "code",
   "execution_count": 263,
   "id": "d2355a48",
   "metadata": {},
   "outputs": [
    {
     "data": {
      "text/html": [
       "<div>\n",
       "<style scoped>\n",
       "    .dataframe tbody tr th:only-of-type {\n",
       "        vertical-align: middle;\n",
       "    }\n",
       "\n",
       "    .dataframe tbody tr th {\n",
       "        vertical-align: top;\n",
       "    }\n",
       "\n",
       "    .dataframe thead th {\n",
       "        text-align: right;\n",
       "    }\n",
       "</style>\n",
       "<table border=\"1\" class=\"dataframe\">\n",
       "  <thead>\n",
       "    <tr style=\"text-align: right;\">\n",
       "      <th></th>\n",
       "      <th>area</th>\n",
       "      <th>tax</th>\n",
       "      <th>tax_baseline</th>\n",
       "      <th>yhat</th>\n",
       "    </tr>\n",
       "  </thead>\n",
       "  <tbody>\n",
       "    <tr>\n",
       "      <th>95764</th>\n",
       "      <td>1336.0</td>\n",
       "      <td>1106.58</td>\n",
       "      <td>4816.767039</td>\n",
       "      <td>3662.802938</td>\n",
       "    </tr>\n",
       "    <tr>\n",
       "      <th>26088</th>\n",
       "      <td>1882.0</td>\n",
       "      <td>2679.76</td>\n",
       "      <td>4816.767039</td>\n",
       "      <td>5059.419737</td>\n",
       "    </tr>\n",
       "    <tr>\n",
       "      <th>1873299</th>\n",
       "      <td>884.0</td>\n",
       "      <td>2554.82</td>\n",
       "      <td>4816.767039</td>\n",
       "      <td>2506.629325</td>\n",
       "    </tr>\n",
       "    <tr>\n",
       "      <th>285118</th>\n",
       "      <td>833.0</td>\n",
       "      <td>3490.04</td>\n",
       "      <td>4816.767039</td>\n",
       "      <td>2376.176108</td>\n",
       "    </tr>\n",
       "    <tr>\n",
       "      <th>1900458</th>\n",
       "      <td>2840.0</td>\n",
       "      <td>6415.56</td>\n",
       "      <td>4816.767039</td>\n",
       "      <td>7509.893899</td>\n",
       "    </tr>\n",
       "    <tr>\n",
       "      <th>...</th>\n",
       "      <td>...</td>\n",
       "      <td>...</td>\n",
       "      <td>...</td>\n",
       "      <td>...</td>\n",
       "    </tr>\n",
       "    <tr>\n",
       "      <th>1842433</th>\n",
       "      <td>928.0</td>\n",
       "      <td>4877.69</td>\n",
       "      <td>4816.767039</td>\n",
       "      <td>2619.177199</td>\n",
       "    </tr>\n",
       "    <tr>\n",
       "      <th>1107106</th>\n",
       "      <td>3112.0</td>\n",
       "      <td>4650.96</td>\n",
       "      <td>4816.767039</td>\n",
       "      <td>8205.644391</td>\n",
       "    </tr>\n",
       "    <tr>\n",
       "      <th>1984259</th>\n",
       "      <td>1064.0</td>\n",
       "      <td>4187.11</td>\n",
       "      <td>4816.767039</td>\n",
       "      <td>2967.052446</td>\n",
       "    </tr>\n",
       "    <tr>\n",
       "      <th>614562</th>\n",
       "      <td>2865.0</td>\n",
       "      <td>4167.64</td>\n",
       "      <td>4816.767039</td>\n",
       "      <td>7573.841554</td>\n",
       "    </tr>\n",
       "    <tr>\n",
       "      <th>1993468</th>\n",
       "      <td>2045.0</td>\n",
       "      <td>4235.42</td>\n",
       "      <td>4816.767039</td>\n",
       "      <td>5476.358451</td>\n",
       "    </tr>\n",
       "  </tbody>\n",
       "</table>\n",
       "<p>1251225 rows × 4 columns</p>\n",
       "</div>"
      ],
      "text/plain": [
       "           area      tax  tax_baseline         yhat\n",
       "95764    1336.0  1106.58   4816.767039  3662.802938\n",
       "26088    1882.0  2679.76   4816.767039  5059.419737\n",
       "1873299   884.0  2554.82   4816.767039  2506.629325\n",
       "285118    833.0  3490.04   4816.767039  2376.176108\n",
       "1900458  2840.0  6415.56   4816.767039  7509.893899\n",
       "...         ...      ...           ...          ...\n",
       "1842433   928.0  4877.69   4816.767039  2619.177199\n",
       "1107106  3112.0  4650.96   4816.767039  8205.644391\n",
       "1984259  1064.0  4187.11   4816.767039  2967.052446\n",
       "614562   2865.0  4167.64   4816.767039  7573.841554\n",
       "1993468  2045.0  4235.42   4816.767039  5476.358451\n",
       "\n",
       "[1251225 rows x 4 columns]"
      ]
     },
     "execution_count": 263,
     "metadata": {},
     "output_type": "execute_result"
    }
   ],
   "source": [
    "df"
   ]
  },
  {
   "cell_type": "code",
   "execution_count": 264,
   "id": "ebff98b7",
   "metadata": {},
   "outputs": [],
   "source": [
    "# compute residuals\n",
    "df['residual'] = df['yhat'] - df['tax']\n",
    "df['residual_baseline'] = df['tax_baseline'] - df['tax']"
   ]
  },
  {
   "cell_type": "code",
   "execution_count": 265,
   "id": "46b24201",
   "metadata": {},
   "outputs": [],
   "source": [
    "# square each residual value\n",
    "df['residual_sq'] = df.residual ** 2\n",
    "\n",
    "df['residual_baseline_sq'] = df.residual_baseline ** 2"
   ]
  },
  {
   "cell_type": "code",
   "execution_count": 266,
   "id": "f1fc36b7",
   "metadata": {},
   "outputs": [
    {
     "name": "stdout",
     "output_type": "stream",
     "text": [
      "SSE =  9773143873211.836\n",
      "SSE - baseline =  14559947137451.92\n"
     ]
    }
   ],
   "source": [
    "# SSE\n",
    "SSE = sum(df['residual_sq'])\n",
    "SSE_baseline = sum(df['residual_baseline_sq'])\n",
    "\n",
    "print(\"SSE = \", SSE)\n",
    "print(\"SSE - baseline = \", SSE_baseline)"
   ]
  },
  {
   "cell_type": "code",
   "execution_count": 267,
   "id": "4fed89f6",
   "metadata": {},
   "outputs": [
    {
     "name": "stdout",
     "output_type": "stream",
     "text": [
      "MSE =  7810860.455323252\n",
      "MSE baseline =  11636553.887152126\n"
     ]
    }
   ],
   "source": [
    "# MSE\n",
    "MSE = SSE/len(df)\n",
    "MSE_baseline = SSE_baseline/len(df)\n",
    "\n",
    "print(\"MSE = \", MSE)\n",
    "print(\"MSE baseline = \", MSE_baseline)"
   ]
  },
  {
   "cell_type": "code",
   "execution_count": 268,
   "id": "bcb7857a",
   "metadata": {},
   "outputs": [
    {
     "name": "stdout",
     "output_type": "stream",
     "text": [
      "RMSE =  2794.7916658175527\n",
      "RMSE baseline =  3411.239347678806\n"
     ]
    }
   ],
   "source": [
    "from math import sqrt\n",
    "RMSE = sqrt(MSE)\n",
    "RMSE_baseline = sqrt(MSE_baseline)\n",
    "\n",
    "print(\"RMSE = \", RMSE)\n",
    "print(\"RMSE baseline = \", RMSE_baseline)"
   ]
  },
  {
   "cell_type": "markdown",
   "id": "9a2736f4",
   "metadata": {},
   "source": [
    "# SKLEARN"
   ]
  },
  {
   "cell_type": "code",
   "execution_count": 269,
   "id": "3ffcb5c5",
   "metadata": {},
   "outputs": [
    {
     "name": "stdout",
     "output_type": "stream",
     "text": [
      "SSE manual == SSE sklearn: (9773143873211.836, 9773143873211.926)\n",
      "SSE manual - baseline == SSE sklearn - baseline: (14559947137451.92, 14559947137451.861)\n"
     ]
    }
   ],
   "source": [
    "from sklearn.metrics import mean_squared_error\n",
    "SSE2 = mean_squared_error(df.tax, df.yhat)*len(df)\n",
    "SSE2_baseline = mean_squared_error(df.tax, df.tax_baseline)*len(df)\n",
    "\n",
    "print(f'''SSE manual == SSE sklearn: {SSE, SSE2}\n",
    "SSE manual - baseline == SSE sklearn - baseline: {SSE_baseline, SSE2_baseline}''')"
   ]
  },
  {
   "cell_type": "code",
   "execution_count": 270,
   "id": "89cba976",
   "metadata": {},
   "outputs": [
    {
     "name": "stdout",
     "output_type": "stream",
     "text": [
      "MSE manual == MSE sklearn: (7810860.455323252, 7810860.455323324)\n",
      "MSE manual - baseline == MSE sklearn - baseline: (11636553.887152126, 11636553.88715208)\n"
     ]
    }
   ],
   "source": [
    "MSE2 = mean_squared_error(df.tax, df.yhat)\n",
    "\n",
    "MSE2_baseline = mean_squared_error(df.tax, df.tax_baseline)\n",
    "\n",
    "\n",
    "print(f\"MSE manual == MSE sklearn: {MSE, MSE2}\") \n",
    "print(f\"MSE manual - baseline == MSE sklearn - baseline: {MSE_baseline, MSE2_baseline}\") "
   ]
  },
  {
   "cell_type": "code",
   "execution_count": 271,
   "id": "e4f6bf85",
   "metadata": {},
   "outputs": [
    {
     "name": "stdout",
     "output_type": "stream",
     "text": [
      "RMSE manual == RMSE skearn:  (2794.7916658175527, 2794.7916658175654)\n",
      "RMSE manual - baseline == RMSE skearn - baseline: (3411.239347678806, 3411.2393476787993) \n"
     ]
    }
   ],
   "source": [
    "RMSE2 = sqrt(mean_squared_error(df.tax, df.yhat))\n",
    "RMSE2_baseline = sqrt(mean_squared_error(df.tax, df.tax_baseline))\n",
    "\n",
    "print(f\"RMSE manual == RMSE skearn:  {RMSE, RMSE2}\") \n",
    "print(f\"RMSE manual - baseline == RMSE skearn - baseline: {RMSE_baseline,  RMSE2_baseline} \")\n"
   ]
  },
  {
   "cell_type": "code",
   "execution_count": 272,
   "id": "396ffdfe",
   "metadata": {},
   "outputs": [
    {
     "data": {
      "text/plain": [
       "9773143873211.926"
      ]
     },
     "execution_count": 272,
     "metadata": {},
     "output_type": "execute_result"
    }
   ],
   "source": [
    "SSE2"
   ]
  },
  {
   "cell_type": "code",
   "execution_count": 273,
   "id": "d4cec6eb",
   "metadata": {},
   "outputs": [
    {
     "name": "stdout",
     "output_type": "stream",
     "text": [
      "  metric   model_error\n",
      "0    SSE  9.773144e+12\n",
      "1    MSE  7.810860e+06\n",
      "2   RMSE  2.794792e+03\n",
      "          metric   model_error\n",
      "0   SSE_baseline  1.455995e+13\n",
      "1   MSE_baseline  1.163655e+07\n",
      "2  RMSE_baseline  3.411239e+03\n"
     ]
    }
   ],
   "source": [
    "df_eval = pd.DataFrame(np.array(['SSE','MSE','RMSE']), columns=['metric'])\n",
    "df_baseline_eval = pd.DataFrame(np.array(['SSE_baseline','MSE_baseline','RMSE_baseline']), columns=['metric'])\n",
    "\n",
    "df_eval['model_error'] = np.array([SSE, MSE, RMSE])\n",
    "df_baseline_eval['model_error'] = np.array([SSE_baseline, MSE_baseline, RMSE_baseline])\n",
    "\n",
    "print(df_eval)\n",
    "print(df_baseline_eval)"
   ]
  },
  {
   "cell_type": "markdown",
   "id": "fca31610",
   "metadata": {},
   "source": [
    "3. Plot the residuals for the linear regression model that you made."
   ]
  },
  {
   "cell_type": "code",
   "execution_count": 85,
   "id": "b0525010",
   "metadata": {
    "scrolled": true
   },
   "outputs": [
    {
     "data": {
      "image/png": "[encoded data removed]",
      "text/plain": [
       "<Figure size 640x480 with 1 Axes>"
      ]
     },
     "metadata": {},
     "output_type": "display_data"
    }
   ],
   "source": [
    "# visualize the line of best fit from OLS linear model\n",
    "\n",
    "#scatter is my actuals\n",
    "plt.scatter(df.area, df.tax)\n",
    "\n",
    "#lineplot is my regression line\n",
    "plt.plot(df.area, df.yhat)\n",
    "\n",
    "\n",
    "plt.xlabel('x = tax')\n",
    "plt.ylabel('y = area')\n",
    "plt.title('OLS linear model')\n",
    "plt.show()"
   ]
  },
  {
   "cell_type": "markdown",
   "id": "4b7d9c94",
   "metadata": {},
   "source": [
    "6. Write python code that compares the sum of squared errors for your model against the sum of squared errors for the baseline model and outputs whether or not your model performs better than the baseline model."
   ]
  },
  {
   "cell_type": "code",
   "execution_count": 177,
   "id": "f87823bb",
   "metadata": {},
   "outputs": [],
   "source": [
    "def compare_sse(df, x, y):\n",
    "    # create baseline\n",
    "    df['yhat_baseline'] = df[y].mean()\n",
    "    \n",
    "    # creating simplae model \n",
    "    lr = LinearRegression()\n",
    "    ols_model = lr.fit(df[[x]], df[y])\n",
    "    df['yhat'] = ols_model.predict(df[[x]])\n",
    "    \n",
    "    # compute SSE\n",
    "    SSE = mean_squared_error(df[y], df.yhat)*len(df)\n",
    "    SSE_baseline = mean_squared_error(df[y], df.yhat_baseline)*len(df)\n",
    "    \n",
    "    # compute MSE\n",
    "    MSE = mean_squared_error(df[y], df.yhat)\n",
    "    MSE_baseline = mean_squared_error(df[y], df.yhat_baseline)\n",
    "    \n",
    "    # compute RMSE\n",
    "    RMSE = sqrt(mean_squared_error(df[y], df.yhat))\n",
    "    RMSE_baseline = sqrt(mean_squared_error(df[y], df.yhat_baseline))\n",
    "    \n",
    "    # compute ESS\n",
    "    ESS = sum((df.yhat - df[y].mean())**2)\n",
    "    \n",
    "\n",
    "    \n",
    "    \n",
    "    df_eval = pd.DataFrame(np.array(['SSE','MSE','RMSE', 'SSE_baseline','MSE_baseline','RMSE_baseline']), columns=['metric'])\n",
    "\n",
    "    df_eval['model_error'] = np.array([SSE, MSE, RMSE, SSE_baseline, MSE_baseline, RMSE_baseline])\n",
    "\n",
    "    df_eval['error_delta'] = df_eval.model_error - df_baseline_eval.model_error\n",
    "    \n",
    "    return pd.DataFrame(df_eval)\n"
   ]
  },
  {
   "cell_type": "code",
   "execution_count": 277,
   "id": "2efec86f",
   "metadata": {},
   "outputs": [
    {
     "data": {
      "text/html": [
       "<div>\n",
       "<style scoped>\n",
       "    .dataframe tbody tr th:only-of-type {\n",
       "        vertical-align: middle;\n",
       "    }\n",
       "\n",
       "    .dataframe tbody tr th {\n",
       "        vertical-align: top;\n",
       "    }\n",
       "\n",
       "    .dataframe thead th {\n",
       "        text-align: right;\n",
       "    }\n",
       "</style>\n",
       "<table border=\"1\" class=\"dataframe\">\n",
       "  <thead>\n",
       "    <tr style=\"text-align: right;\">\n",
       "      <th></th>\n",
       "      <th>metric</th>\n",
       "      <th>model_error</th>\n",
       "      <th>error_delta</th>\n",
       "    </tr>\n",
       "  </thead>\n",
       "  <tbody>\n",
       "    <tr>\n",
       "      <th>0</th>\n",
       "      <td>SSE</td>\n",
       "      <td>9.773144e+12</td>\n",
       "      <td>-4.786803e+12</td>\n",
       "    </tr>\n",
       "    <tr>\n",
       "      <th>1</th>\n",
       "      <td>MSE</td>\n",
       "      <td>7.810860e+06</td>\n",
       "      <td>-3.825693e+06</td>\n",
       "    </tr>\n",
       "    <tr>\n",
       "      <th>2</th>\n",
       "      <td>RMSE</td>\n",
       "      <td>2.794792e+03</td>\n",
       "      <td>-6.164477e+02</td>\n",
       "    </tr>\n",
       "    <tr>\n",
       "      <th>3</th>\n",
       "      <td>SSE_baseline</td>\n",
       "      <td>1.455995e+13</td>\n",
       "      <td>NaN</td>\n",
       "    </tr>\n",
       "    <tr>\n",
       "      <th>4</th>\n",
       "      <td>MSE_baseline</td>\n",
       "      <td>1.163655e+07</td>\n",
       "      <td>NaN</td>\n",
       "    </tr>\n",
       "    <tr>\n",
       "      <th>5</th>\n",
       "      <td>RMSE_baseline</td>\n",
       "      <td>3.411239e+03</td>\n",
       "      <td>NaN</td>\n",
       "    </tr>\n",
       "  </tbody>\n",
       "</table>\n",
       "</div>"
      ],
      "text/plain": [
       "          metric   model_error   error_delta\n",
       "0            SSE  9.773144e+12 -4.786803e+12\n",
       "1            MSE  7.810860e+06 -3.825693e+06\n",
       "2           RMSE  2.794792e+03 -6.164477e+02\n",
       "3   SSE_baseline  1.455995e+13           NaN\n",
       "4   MSE_baseline  1.163655e+07           NaN\n",
       "5  RMSE_baseline  3.411239e+03           NaN"
      ]
     },
     "execution_count": 277,
     "metadata": {},
     "output_type": "execute_result"
    }
   ],
   "source": [
    "compare_sse(train, \"area\", \"tax\")"
   ]
  },
  {
   "cell_type": "code",
   "execution_count": 223,
   "id": "871740dd",
   "metadata": {},
   "outputs": [],
   "source": [
    "def compare_models(y, yhat, y_baseline):\n",
    "    # Calculate the sum of squared errors for the model and the baseline\n",
    "    model_sse = np.sum((y - yhat) ** 2)\n",
    "    baseline_sse = np.sum((y - y_baseline) ** 2)\n",
    "\n",
    "    # Compare the SSE values and output the result\n",
    "    if model_sse < baseline_sse:\n",
    "        print(\"Your model performs better than the baseline model.\")\n",
    "    elif model_sse > baseline_sse:\n",
    "        print(\"Your model does not perform better than the baseline model.\")\n",
    "    else:\n",
    "        print(\"Your model performs equally to the baseline model.\")"
   ]
  },
  {
   "cell_type": "code",
   "execution_count": 276,
   "id": "501f2eff",
   "metadata": {},
   "outputs": [
    {
     "name": "stdout",
     "output_type": "stream",
     "text": [
      "Your model performs better than the baseline model.\n"
     ]
    }
   ],
   "source": [
    "compare_models(df.tax, df.yhat, df.tax_baseline)"
   ]
  },
  {
   "cell_type": "code",
   "execution_count": 208,
   "id": "10ffad71",
   "metadata": {},
   "outputs": [],
   "source": [
    "def plot_residuals(y, yhat):\n",
    "    # Calculate residuals\n",
    "    residuals = y - yhat\n",
    "\n",
    "    # Create a scatter plot of residuals\n",
    "    plt.scatter(yhat, residuals)\n",
    "    plt.axhline(y=0, color='r', linestyle='--')  # Add a horizontal line at y=0\n",
    "\n",
    "    # Set plot labels and title\n",
    "    plt.xlabel('Predicted values')\n",
    "    plt.ylabel('Residuals')\n",
    "    plt.title('Residual Plot')\n",
    "\n",
    "    # Show the plot\n",
    "    plt.show()"
   ]
  },
  {
   "cell_type": "code",
   "execution_count": 209,
   "id": "57f50ae9",
   "metadata": {},
   "outputs": [
    {
     "data": {
      "image/png": "[encoded data removed]",
      "text/plain": [
       "<Figure size 640x480 with 1 Axes>"
      ]
     },
     "metadata": {},
     "output_type": "display_data"
    }
   ],
   "source": [
    "plot_residuals(df.tax, df.yhat)"
   ]
  },
  {
   "cell_type": "code",
   "execution_count": 214,
   "id": "01d10aeb",
   "metadata": {},
   "outputs": [],
   "source": [
    "import numpy as np\n",
    "\n",
    "def regression_errors(y, yhat):\n",
    "    # Calculate the squared errors\n",
    "    squared_errors = (y - yhat) ** 2\n",
    "\n",
    "    # Calculate the sum of squared errors (SSE)\n",
    "    sse = np.sum(squared_errors)\n",
    "\n",
    "    # Calculate the explained sum of squares (ESS)\n",
    "    ess = np.sum((yhat - np.mean(y)) ** 2)\n",
    "\n",
    "    # Calculate the total sum of squares (TSS)\n",
    "    tss = np.sum((y - np.mean(y)) ** 2)\n",
    "\n",
    "    # Calculate the mean squared error (MSE)\n",
    "    mse = np.mean(squared_errors)\n",
    "\n",
    "    # Calculate the root mean squared error (RMSE)\n",
    "    rmse = np.sqrt(mse)\n",
    "    \n",
    "    print(\"Sum of Squared Errors (SSE):\", sse)\n",
    "    print(\"Explained Sum of Squares (ESS):\", ess)\n",
    "    print(\"Total Sum of Squares (TSS):\", tss)\n",
    "    print(\"Mean Squared Error (MSE):\", mse)\n",
    "    print(\"Root Mean Squared Error (RMSE):\", rmse)\n",
    "\n",
    "    return sse, ess, tss, mse, rmse\n"
   ]
  },
  {
   "cell_type": "code",
   "execution_count": 275,
   "id": "14a7005c",
   "metadata": {},
   "outputs": [
    {
     "name": "stdout",
     "output_type": "stream",
     "text": [
      "Sum of Squared Errors (SSE): 9773143873211.926\n",
      "Explained Sum of Squares (ESS): 4786803264240.05\n",
      "Total Sum of Squares (TSS): 14559947137451.861\n",
      "Mean Squared Error (MSE): 7810860.455323252\n",
      "Root Mean Squared Error (RMSE): 2794.7916658175527\n"
     ]
    },
    {
     "data": {
      "text/plain": [
       "(9773143873211.926,\n",
       " 4786803264240.05,\n",
       " 14559947137451.861,\n",
       " 7810860.455323252,\n",
       " 2794.7916658175527)"
      ]
     },
     "execution_count": 275,
     "metadata": {},
     "output_type": "execute_result"
    }
   ],
   "source": [
    "regression_errors(df.tax, df.yhat)"
   ]
  },
  {
   "cell_type": "code",
   "execution_count": 216,
   "id": "287dfbc9",
   "metadata": {},
   "outputs": [],
   "source": [
    "def baseline_mean_errors(y):\n",
    "    # Calculate the mean of y\n",
    "    y_mean = np.mean(y)\n",
    "\n",
    "    # Calculate the squared errors\n",
    "    squared_errors = (y - y_mean) ** 2\n",
    "\n",
    "    # Calculate the sum of squared errors (SSE)\n",
    "    sse = np.sum(squared_errors)\n",
    "\n",
    "    # Calculate the mean squared error (MSE)\n",
    "    mse = np.mean(squared_errors)\n",
    "\n",
    "    # Calculate the root mean squared error (RMSE)\n",
    "    rmse = np.sqrt(mse)\n",
    "\n",
    "    return sse, mse, rmse"
   ]
  },
  {
   "cell_type": "code",
   "execution_count": 274,
   "id": "da58af91",
   "metadata": {},
   "outputs": [
    {
     "data": {
      "text/plain": [
       "(14559947137451.861, 11636553.887152126, 3411.239347678806)"
      ]
     },
     "execution_count": 274,
     "metadata": {},
     "output_type": "execute_result"
    }
   ],
   "source": [
    "baseline_mean_errors(df.tax)"
   ]
  },
  {
   "cell_type": "code",
   "execution_count": 220,
   "id": "4ec43953",
   "metadata": {},
   "outputs": [],
   "source": [
    "def better_than_baseline(y, yhat):\n",
    "    # Calculate the mean of y\n",
    "    y_mean = np.mean(y)\n",
    "\n",
    "    # Calculate the sum of squared errors for the model and the baseline\n",
    "    model_sse = np.sum((y - yhat) ** 2)\n",
    "    baseline_sse = np.sum((y - y_mean) ** 2)\n",
    "\n",
    "    # Check if the model's SSE is lower than the baseline's SSE\n",
    "    if model_sse < baseline_sse:\n",
    "        return True\n",
    "    else:\n",
    "        return False"
   ]
  },
  {
   "cell_type": "code",
   "execution_count": 222,
   "id": "b7cf1f1e",
   "metadata": {},
   "outputs": [
    {
     "data": {
      "text/html": [
       "<div>\n",
       "<style scoped>\n",
       "    .dataframe tbody tr th:only-of-type {\n",
       "        vertical-align: middle;\n",
       "    }\n",
       "\n",
       "    .dataframe tbody tr th {\n",
       "        vertical-align: top;\n",
       "    }\n",
       "\n",
       "    .dataframe thead th {\n",
       "        text-align: right;\n",
       "    }\n",
       "</style>\n",
       "<table border=\"1\" class=\"dataframe\">\n",
       "  <thead>\n",
       "    <tr style=\"text-align: right;\">\n",
       "      <th></th>\n",
       "      <th>Unnamed: 0</th>\n",
       "      <th>bedroomcnt</th>\n",
       "      <th>bathroomcnt</th>\n",
       "      <th>calculatedfinishedsquarefeet</th>\n",
       "      <th>taxvaluedollarcnt</th>\n",
       "      <th>yearbuilt</th>\n",
       "      <th>taxamount</th>\n",
       "      <th>fips</th>\n",
       "    </tr>\n",
       "  </thead>\n",
       "  <tbody>\n",
       "    <tr>\n",
       "      <th>274688</th>\n",
       "      <td>274688</td>\n",
       "      <td>3.0</td>\n",
       "      <td>1.0</td>\n",
       "      <td>1270.0</td>\n",
       "      <td>84334.0</td>\n",
       "      <td>1930.0</td>\n",
       "      <td>1155.60</td>\n",
       "      <td>6037.0</td>\n",
       "    </tr>\n",
       "    <tr>\n",
       "      <th>1530144</th>\n",
       "      <td>1530144</td>\n",
       "      <td>4.0</td>\n",
       "      <td>2.0</td>\n",
       "      <td>2027.0</td>\n",
       "      <td>338023.0</td>\n",
       "      <td>1956.0</td>\n",
       "      <td>4264.07</td>\n",
       "      <td>6037.0</td>\n",
       "    </tr>\n",
       "    <tr>\n",
       "      <th>394467</th>\n",
       "      <td>394467</td>\n",
       "      <td>4.0</td>\n",
       "      <td>3.0</td>\n",
       "      <td>1536.0</td>\n",
       "      <td>214451.0</td>\n",
       "      <td>1997.0</td>\n",
       "      <td>2765.16</td>\n",
       "      <td>6037.0</td>\n",
       "    </tr>\n",
       "    <tr>\n",
       "      <th>1661817</th>\n",
       "      <td>1661817</td>\n",
       "      <td>3.0</td>\n",
       "      <td>2.0</td>\n",
       "      <td>1248.0</td>\n",
       "      <td>317423.0</td>\n",
       "      <td>1960.0</td>\n",
       "      <td>3935.14</td>\n",
       "      <td>6037.0</td>\n",
       "    </tr>\n",
       "    <tr>\n",
       "      <th>51313</th>\n",
       "      <td>51313</td>\n",
       "      <td>4.0</td>\n",
       "      <td>3.0</td>\n",
       "      <td>2003.0</td>\n",
       "      <td>80842.0</td>\n",
       "      <td>1954.0</td>\n",
       "      <td>2573.80</td>\n",
       "      <td>6059.0</td>\n",
       "    </tr>\n",
       "    <tr>\n",
       "      <th>...</th>\n",
       "      <td>...</td>\n",
       "      <td>...</td>\n",
       "      <td>...</td>\n",
       "      <td>...</td>\n",
       "      <td>...</td>\n",
       "      <td>...</td>\n",
       "      <td>...</td>\n",
       "      <td>...</td>\n",
       "    </tr>\n",
       "    <tr>\n",
       "      <th>1513411</th>\n",
       "      <td>1513411</td>\n",
       "      <td>2.0</td>\n",
       "      <td>1.0</td>\n",
       "      <td>1115.0</td>\n",
       "      <td>309474.0</td>\n",
       "      <td>1951.0</td>\n",
       "      <td>3756.71</td>\n",
       "      <td>6037.0</td>\n",
       "    </tr>\n",
       "    <tr>\n",
       "      <th>1090779</th>\n",
       "      <td>1090779</td>\n",
       "      <td>3.0</td>\n",
       "      <td>3.0</td>\n",
       "      <td>2078.0</td>\n",
       "      <td>890058.0</td>\n",
       "      <td>1969.0</td>\n",
       "      <td>10849.75</td>\n",
       "      <td>6037.0</td>\n",
       "    </tr>\n",
       "    <tr>\n",
       "      <th>698534</th>\n",
       "      <td>698534</td>\n",
       "      <td>3.0</td>\n",
       "      <td>1.5</td>\n",
       "      <td>1283.0</td>\n",
       "      <td>181498.0</td>\n",
       "      <td>1955.0</td>\n",
       "      <td>2259.18</td>\n",
       "      <td>6059.0</td>\n",
       "    </tr>\n",
       "    <tr>\n",
       "      <th>1406919</th>\n",
       "      <td>1406919</td>\n",
       "      <td>4.0</td>\n",
       "      <td>2.0</td>\n",
       "      <td>1954.0</td>\n",
       "      <td>67878.0</td>\n",
       "      <td>1955.0</td>\n",
       "      <td>1067.06</td>\n",
       "      <td>6037.0</td>\n",
       "    </tr>\n",
       "    <tr>\n",
       "      <th>927032</th>\n",
       "      <td>927032</td>\n",
       "      <td>5.0</td>\n",
       "      <td>3.0</td>\n",
       "      <td>2187.0</td>\n",
       "      <td>287131.0</td>\n",
       "      <td>1949.0</td>\n",
       "      <td>3588.31</td>\n",
       "      <td>6037.0</td>\n",
       "    </tr>\n",
       "  </tbody>\n",
       "</table>\n",
       "<p>1000 rows × 8 columns</p>\n",
       "</div>"
      ],
      "text/plain": [
       "         Unnamed: 0  bedroomcnt  bathroomcnt  calculatedfinishedsquarefeet  \\\n",
       "274688       274688         3.0          1.0                        1270.0   \n",
       "1530144     1530144         4.0          2.0                        2027.0   \n",
       "394467       394467         4.0          3.0                        1536.0   \n",
       "1661817     1661817         3.0          2.0                        1248.0   \n",
       "51313         51313         4.0          3.0                        2003.0   \n",
       "...             ...         ...          ...                           ...   \n",
       "1513411     1513411         2.0          1.0                        1115.0   \n",
       "1090779     1090779         3.0          3.0                        2078.0   \n",
       "698534       698534         3.0          1.5                        1283.0   \n",
       "1406919     1406919         4.0          2.0                        1954.0   \n",
       "927032       927032         5.0          3.0                        2187.0   \n",
       "\n",
       "         taxvaluedollarcnt  yearbuilt  taxamount    fips  \n",
       "274688             84334.0     1930.0    1155.60  6037.0  \n",
       "1530144           338023.0     1956.0    4264.07  6037.0  \n",
       "394467            214451.0     1997.0    2765.16  6037.0  \n",
       "1661817           317423.0     1960.0    3935.14  6037.0  \n",
       "51313              80842.0     1954.0    2573.80  6059.0  \n",
       "...                    ...        ...        ...     ...  \n",
       "1513411           309474.0     1951.0    3756.71  6037.0  \n",
       "1090779           890058.0     1969.0   10849.75  6037.0  \n",
       "698534            181498.0     1955.0    2259.18  6059.0  \n",
       "1406919            67878.0     1955.0    1067.06  6037.0  \n",
       "927032            287131.0     1949.0    3588.31  6037.0  \n",
       "\n",
       "[1000 rows x 8 columns]"
      ]
     },
     "execution_count": 222,
     "metadata": {},
     "output_type": "execute_result"
    }
   ],
   "source": [
    "df1"
   ]
  },
  {
   "cell_type": "code",
   "execution_count": 278,
   "id": "da50d160",
   "metadata": {},
   "outputs": [
    {
     "data": {
      "text/plain": [
       "True"
      ]
     },
     "execution_count": 278,
     "metadata": {},
     "output_type": "execute_result"
    }
   ],
   "source": [
    "better_than_baseline(df.tax, df.yhat)"
   ]
  },
  {
   "cell_type": "code",
   "execution_count": 281,
   "id": "d3e5156a",
   "metadata": {},
   "outputs": [
    {
     "data": {
      "text/plain": [
       "0.32876515409366214"
      ]
     },
     "execution_count": 281,
     "metadata": {},
     "output_type": "execute_result"
    }
   ],
   "source": [
    "r2_score(df.tax, df.yhat)"
   ]
  },
  {
   "cell_type": "code",
   "execution_count": null,
   "id": "d704379a",
   "metadata": {},
   "outputs": [],
   "source": []
  }
 ],
 "metadata": {
  "kernelspec": {
   "display_name": "Python 3 (ipykernel)",
   "language": "python",
   "name": "python3"
  },
  "language_info": {
   "codemirror_mode": {
    "name": "ipython",
    "version": 3
   },
   "file_extension": ".py",
   "mimetype": "text/x-python",
   "name": "python",
   "nbconvert_exporter": "python",
   "pygments_lexer": "ipython3",
   "version": "3.9.13"
  }
 },
 "nbformat": 4,
 "nbformat_minor": 5
}
